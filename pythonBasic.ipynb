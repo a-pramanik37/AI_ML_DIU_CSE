{
  "nbformat": 4,
  "nbformat_minor": 0,
  "metadata": {
    "colab": {
      "name": "pythonBasic.ipynb",
      "provenance": [],
      "authorship_tag": "ABX9TyMC0HwYdo2Lr+LzmcI9bRVh",
      "include_colab_link": true
    },
    "kernelspec": {
      "name": "python3",
      "display_name": "Python 3"
    }
  },
  "cells": [
    {
      "cell_type": "markdown",
      "metadata": {
        "id": "view-in-github",
        "colab_type": "text"
      },
      "source": [
        "<a href=\"https://colab.research.google.com/github/a-pramanik37/AI_ML_DIU_CSE_Spring2021/blob/main/pythonBasic.ipynb\" target=\"_parent\"><img src=\"https://colab.research.google.com/assets/colab-badge.svg\" alt=\"Open In Colab\"/></a>"
      ]
    },
    {
      "cell_type": "markdown",
      "metadata": {
        "id": "xtHVKIUjEXcu"
      },
      "source": [
        "#**Why Python**\r\n",
        "In this course, we are going to use the Python programming language to build several intelligent applications that use machine learning. Python is a simple scripting language that makes it easy to interact with data. Furthermore, Python has a wide range of packages that make it easy to get started and build applications, from the simplest ones to the most complex. Python is widely used in industry, and is becoming the de facto language for data science in industry. (R is another alternative language. However, R tends to be significantly less scalable and has very few deployment tools, thus it is seldom used for production code in industry. It is possible, but highly discouraged to use R in this specialization.)\r\n",
        "\r\n",
        "We will also use the Jupyter Notebook in our videos. The Jupyter Notebook is a simple interactive environment for programming with Python, which makes it really easy to share your results. Think about it as a combination of a Python terminal and a wiki page. Thus, you can combine code, plots and text to explain what you did. (You are not required to use Jupyter Notebook in the assignments, and should have no problem using straight up Python if you prefer.)"
      ]
    },
    {
      "cell_type": "code",
      "metadata": {
        "colab": {
          "base_uri": "https://localhost:8080/"
        },
        "id": "fy-IVQB9FAJr",
        "outputId": "55805dcd-7579-406e-9ca8-91134a2f3a26"
      },
      "source": [
        "print(\"Hello World\")"
      ],
      "execution_count": 3,
      "outputs": [
        {
          "output_type": "stream",
          "text": [
            "Hello World\n"
          ],
          "name": "stdout"
        }
      ]
    },
    {
      "cell_type": "markdown",
      "metadata": {
        "id": "sORbL9xVFIjn"
      },
      "source": [
        "## **Creating Variables in Python**\r\n",
        "\r\n"
      ]
    },
    {
      "cell_type": "code",
      "metadata": {
        "id": "G2rQmGzRFNic"
      },
      "source": [
        "i=6;"
      ],
      "execution_count": 10,
      "outputs": []
    },
    {
      "cell_type": "code",
      "metadata": {
        "colab": {
          "base_uri": "https://localhost:8080/"
        },
        "id": "VKEkTiJrFfMd",
        "outputId": "4efbf717-bf71-48b9-9ef8-f190bf44e67a"
      },
      "source": [
        "type(i)"
      ],
      "execution_count": 11,
      "outputs": [
        {
          "output_type": "execute_result",
          "data": {
            "text/plain": [
              "int"
            ]
          },
          "metadata": {
            "tags": []
          },
          "execution_count": 11
        }
      ]
    },
    {
      "cell_type": "code",
      "metadata": {
        "id": "r4KFMTwdFmVF"
      },
      "source": [
        "f = 4.37"
      ],
      "execution_count": 7,
      "outputs": []
    },
    {
      "cell_type": "code",
      "metadata": {
        "colab": {
          "base_uri": "https://localhost:8080/"
        },
        "id": "P-O-eg5eFp51",
        "outputId": "9905cef1-df22-4124-8e9c-e62186dcf47e"
      },
      "source": [
        "type(f)"
      ],
      "execution_count": 9,
      "outputs": [
        {
          "output_type": "execute_result",
          "data": {
            "text/plain": [
              "float"
            ]
          },
          "metadata": {
            "tags": []
          },
          "execution_count": 9
        }
      ]
    },
    {
      "cell_type": "code",
      "metadata": {
        "id": "LzAr1D2MGY--"
      },
      "source": [
        "b = True"
      ],
      "execution_count": 12,
      "outputs": []
    },
    {
      "cell_type": "code",
      "metadata": {
        "colab": {
          "base_uri": "https://localhost:8080/"
        },
        "id": "lSWnasemGkdG",
        "outputId": "6e7722b6-5547-4e54-8111-5d994dfc1629"
      },
      "source": [
        "type(b)"
      ],
      "execution_count": 13,
      "outputs": [
        {
          "output_type": "execute_result",
          "data": {
            "text/plain": [
              "bool"
            ]
          },
          "metadata": {
            "tags": []
          },
          "execution_count": 13
        }
      ]
    },
    {
      "cell_type": "code",
      "metadata": {
        "id": "i3PbzP1yGoB9"
      },
      "source": [
        "s = \"I have a pen\""
      ],
      "execution_count": 14,
      "outputs": []
    },
    {
      "cell_type": "code",
      "metadata": {
        "colab": {
          "base_uri": "https://localhost:8080/"
        },
        "id": "6Ld34nJKGrod",
        "outputId": "7820b570-8019-43f7-e099-5afdfd31227a"
      },
      "source": [
        "type(s)"
      ],
      "execution_count": 15,
      "outputs": [
        {
          "output_type": "execute_result",
          "data": {
            "text/plain": [
              "str"
            ]
          },
          "metadata": {
            "tags": []
          },
          "execution_count": 15
        }
      ]
    },
    {
      "cell_type": "markdown",
      "metadata": {
        "id": "QDwyjV_RGtnv"
      },
      "source": [
        "#**Advanced Python Types**"
      ]
    },
    {
      "cell_type": "code",
      "metadata": {
        "colab": {
          "base_uri": "https://localhost:8080/"
        },
        "id": "grD3fy9-Gx5L",
        "outputId": "5954aa7c-2378-4488-d2de-96960894a8e1"
      },
      "source": [
        "#list\r\n",
        "l = [4, 5, 6, 8]\r\n",
        "print(l)"
      ],
      "execution_count": 20,
      "outputs": [
        {
          "output_type": "stream",
          "text": [
            "[4, 5, 6, 8]\n"
          ],
          "name": "stdout"
        }
      ]
    },
    {
      "cell_type": "code",
      "metadata": {
        "colab": {
          "base_uri": "https://localhost:8080/"
        },
        "id": "1TjQXPLcH7F6",
        "outputId": "ea5201d2-d981-4465-b27e-d5012af093a5"
      },
      "source": [
        "#dictionary\r\n",
        "d = {\"rahim\" : 500, \"karim\":200}\r\n",
        "print(d)"
      ],
      "execution_count": 22,
      "outputs": [
        {
          "output_type": "stream",
          "text": [
            "{'rahim': 500, 'karim': 200}\n"
          ],
          "name": "stdout"
        }
      ]
    },
    {
      "cell_type": "code",
      "metadata": {
        "colab": {
          "base_uri": "https://localhost:8080/"
        },
        "id": "pi1w70_LIY2A",
        "outputId": "8e6767e4-3ad4-478b-eada-3f1c6bcacdab"
      },
      "source": [
        "print(d[\"rahim\"])"
      ],
      "execution_count": 25,
      "outputs": [
        {
          "output_type": "stream",
          "text": [
            "500\n"
          ],
          "name": "stdout"
        }
      ]
    },
    {
      "cell_type": "code",
      "metadata": {
        "colab": {
          "base_uri": "https://localhost:8080/"
        },
        "id": "mFtoLkaSIqaF",
        "outputId": "4337b3e8-2f94-4c08-e447-6b9000c2785f"
      },
      "source": [
        "n = None\r\n",
        "type(n)"
      ],
      "execution_count": 27,
      "outputs": [
        {
          "output_type": "execute_result",
          "data": {
            "text/plain": [
              "NoneType"
            ]
          },
          "metadata": {
            "tags": []
          },
          "execution_count": 27
        }
      ]
    },
    {
      "cell_type": "markdown",
      "metadata": {
        "id": "gDTpydCNKEpz"
      },
      "source": [
        "#**Advanced Printing**"
      ]
    },
    {
      "cell_type": "code",
      "metadata": {
        "colab": {
          "base_uri": "https://localhost:8080/"
        },
        "id": "581OhDmCI3IO",
        "outputId": "699318e1-899a-4fad-e78f-2fb35b8293f5"
      },
      "source": [
        "print(\"Here integer value is %s and float value is %s.\" %(f, i))"
      ],
      "execution_count": 30,
      "outputs": [
        {
          "output_type": "stream",
          "text": [
            "Here integer value is 4.37 and float value is 6.\n"
          ],
          "name": "stdout"
        }
      ]
    },
    {
      "cell_type": "markdown",
      "metadata": {
        "id": "44gb3V2LMMZr"
      },
      "source": [
        "#**Conditional Statement**"
      ]
    },
    {
      "cell_type": "code",
      "metadata": {
        "colab": {
          "base_uri": "https://localhost:8080/"
        },
        "id": "EhodE9SKK-Cj",
        "outputId": "e29239eb-c9a4-49b5-f24e-107f2ee8fdc7"
      },
      "source": [
        "if i==2 and f>3:\r\n",
        "  print(\"The value of i is 2 and the value of f is greater than 3\")\r\n",
        "elif i>5 and f>5:\r\n",
        "  print(\"both i and f is greater than 5\")\r\n",
        "else:\r\n",
        "  print(\"both i and f is less than 5\")\r\n"
      ],
      "execution_count": 32,
      "outputs": [
        {
          "output_type": "stream",
          "text": [
            "both i and f is less than 5\n"
          ],
          "name": "stdout"
        }
      ]
    },
    {
      "cell_type": "markdown",
      "metadata": {
        "id": "ArsyV4a0MTwT"
      },
      "source": [
        "#**Loops**"
      ]
    },
    {
      "cell_type": "code",
      "metadata": {
        "colab": {
          "base_uri": "https://localhost:8080/"
        },
        "id": "aPcEqxlOMYSz",
        "outputId": "b01fc4ac-5c8c-4a78-fedf-ba65759e88a4"
      },
      "source": [
        "print(l)"
      ],
      "execution_count": 33,
      "outputs": [
        {
          "output_type": "stream",
          "text": [
            "[4, 5, 6, 8]\n"
          ],
          "name": "stdout"
        }
      ]
    },
    {
      "cell_type": "code",
      "metadata": {
        "colab": {
          "base_uri": "https://localhost:8080/"
        },
        "id": "hkPrORYMMbyp",
        "outputId": "3b5ec5e3-ca19-411c-843a-b9491685f684"
      },
      "source": [
        "for element in l:\r\n",
        "  print(element)"
      ],
      "execution_count": 34,
      "outputs": [
        {
          "output_type": "stream",
          "text": [
            "4\n",
            "5\n",
            "6\n",
            "8\n"
          ],
          "name": "stdout"
        }
      ]
    },
    {
      "cell_type": "code",
      "metadata": {
        "colab": {
          "base_uri": "https://localhost:8080/"
        },
        "id": "sS4Va4VvMi-y",
        "outputId": "88681e8a-a119-4588-df58-55b0b6fe13d8"
      },
      "source": [
        "counter=1\r\n",
        "while counter<=10:\r\n",
        "  print(counter)\r\n",
        "  counter+=1"
      ],
      "execution_count": 36,
      "outputs": [
        {
          "output_type": "stream",
          "text": [
            "1\n",
            "2\n",
            "3\n",
            "4\n",
            "5\n",
            "6\n",
            "7\n",
            "8\n",
            "9\n",
            "10\n"
          ],
          "name": "stdout"
        }
      ]
    },
    {
      "cell_type": "markdown",
      "metadata": {
        "id": "t_RY3xQCMyzm"
      },
      "source": [
        "#**Creating Functions**"
      ]
    },
    {
      "cell_type": "code",
      "metadata": {
        "id": "NIAOI576M3Jw"
      },
      "source": [
        "def func():\r\n",
        "  print(\"this is done inside a function\")"
      ],
      "execution_count": 37,
      "outputs": []
    },
    {
      "cell_type": "code",
      "metadata": {
        "colab": {
          "base_uri": "https://localhost:8080/"
        },
        "id": "NBBTWgQTNHwM",
        "outputId": "4d0bf929-8434-4404-f287-9018d11bb888"
      },
      "source": [
        "func()"
      ],
      "execution_count": 38,
      "outputs": [
        {
          "output_type": "stream",
          "text": [
            "this is done inside a function\n"
          ],
          "name": "stdout"
        }
      ]
    },
    {
      "cell_type": "code",
      "metadata": {
        "id": "BeCXfqEGNKZh"
      },
      "source": [
        "def square(x):\r\n",
        "  sq = x*x\r\n",
        "  return sq"
      ],
      "execution_count": 39,
      "outputs": []
    },
    {
      "cell_type": "code",
      "metadata": {
        "colab": {
          "base_uri": "https://localhost:8080/"
        },
        "id": "uXe7Qm96NWNR",
        "outputId": "bec0b308-80f7-4542-c20c-caba5c9c6b29"
      },
      "source": [
        "value=4;\r\n",
        "square(value)"
      ],
      "execution_count": 40,
      "outputs": [
        {
          "output_type": "execute_result",
          "data": {
            "text/plain": [
              "16"
            ]
          },
          "metadata": {
            "tags": []
          },
          "execution_count": 40
        }
      ]
    },
    {
      "cell_type": "code",
      "metadata": {
        "id": "iE9shvYuPrqc"
      },
      "source": [
        "def sum(x, y):\r\n",
        "  z = x+y\r\n",
        "  return z"
      ],
      "execution_count": 42,
      "outputs": []
    },
    {
      "cell_type": "code",
      "metadata": {
        "colab": {
          "base_uri": "https://localhost:8080/"
        },
        "id": "IA8H0yuZPxio",
        "outputId": "096160e9-d3bb-4e91-80ab-6e4dbac73024"
      },
      "source": [
        "sum(4, 11)"
      ],
      "execution_count": 43,
      "outputs": [
        {
          "output_type": "execute_result",
          "data": {
            "text/plain": [
              "15"
            ]
          },
          "metadata": {
            "tags": []
          },
          "execution_count": 43
        }
      ]
    }
  ]
}