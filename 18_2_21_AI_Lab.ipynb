{
  "nbformat": 4,
  "nbformat_minor": 0,
  "metadata": {
    "colab": {
      "name": "18-2-21_AI_Lab.ipynb",
      "provenance": [],
      "authorship_tag": "ABX9TyMXAvAJoR+E0rVed22/Afbw",
      "include_colab_link": true
    },
    "kernelspec": {
      "name": "python3",
      "display_name": "Python 3"
    }
  },
  "cells": [
    {
      "cell_type": "markdown",
      "metadata": {
        "id": "view-in-github",
        "colab_type": "text"
      },
      "source": [
        "<a href=\"https://colab.research.google.com/github/a-pramanik37/AI_ML_DIU_CSE_Spring2021/blob/main/18_2_21_AI_Lab.ipynb\" target=\"_parent\"><img src=\"https://colab.research.google.com/assets/colab-badge.svg\" alt=\"Open In Colab\"/></a>"
      ]
    },
    {
      "cell_type": "markdown",
      "metadata": {
        "id": "8TvXLkXyUo8d"
      },
      "source": [
        "#**Basic Python**"
      ]
    },
    {
      "cell_type": "markdown",
      "metadata": {
        "id": "0xMa23igVJ4o"
      },
      "source": [
        "#**Data types**"
      ]
    },
    {
      "cell_type": "code",
      "metadata": {
        "colab": {
          "base_uri": "https://localhost:8080/"
        },
        "id": "21VYTO4mTsHd",
        "outputId": "e1b0903f-e9de-4cbc-a4b5-88da0e143525"
      },
      "source": [
        "n=453\r\n",
        "print(n)"
      ],
      "execution_count": 4,
      "outputs": [
        {
          "output_type": "stream",
          "text": [
            "453\n"
          ],
          "name": "stdout"
        }
      ]
    },
    {
      "cell_type": "code",
      "metadata": {
        "colab": {
          "base_uri": "https://localhost:8080/"
        },
        "id": "aZBBD0LPUc5w",
        "outputId": "4c023deb-3361-4916-c4cd-a629e86720cd"
      },
      "source": [
        "type(n)"
      ],
      "execution_count": 2,
      "outputs": [
        {
          "output_type": "execute_result",
          "data": {
            "text/plain": [
              "int"
            ]
          },
          "metadata": {
            "tags": []
          },
          "execution_count": 2
        }
      ]
    },
    {
      "cell_type": "code",
      "metadata": {
        "colab": {
          "base_uri": "https://localhost:8080/"
        },
        "id": "EYo2cAdEUho-",
        "outputId": "72f9adc8-4d4a-47a8-b041-81b73b1f25c7"
      },
      "source": [
        "f = 4.345\r\n",
        "type(f)"
      ],
      "execution_count": 5,
      "outputs": [
        {
          "output_type": "execute_result",
          "data": {
            "text/plain": [
              "float"
            ]
          },
          "metadata": {
            "tags": []
          },
          "execution_count": 5
        }
      ]
    },
    {
      "cell_type": "markdown",
      "metadata": {
        "id": "1crz_N2LVvyc"
      },
      "source": [
        "#**Advanced data types**"
      ]
    },
    {
      "cell_type": "code",
      "metadata": {
        "colab": {
          "base_uri": "https://localhost:8080/"
        },
        "id": "pVGl5bjJVE0t",
        "outputId": "903cdc07-c276-42b5-9692-be895a2c61e9"
      },
      "source": [
        "#list\r\n",
        "myList = [2, 4, 10, 15, 20]\r\n",
        "print(myList)"
      ],
      "execution_count": 25,
      "outputs": [
        {
          "output_type": "stream",
          "text": [
            "[2, 4, 10, 15, 20]\n"
          ],
          "name": "stdout"
        }
      ]
    },
    {
      "cell_type": "code",
      "metadata": {
        "colab": {
          "base_uri": "https://localhost:8080/"
        },
        "id": "rtJqIau_WjKF",
        "outputId": "243dfbdb-16e5-4e85-eca8-5e33209e3255"
      },
      "source": [
        "#dictionary\r\n",
        "myDictionary = {3.42 : 500, 5.342 : 700}\r\n",
        "print(myDictionary)\r\n",
        "print(myDictionary[3.42])"
      ],
      "execution_count": 24,
      "outputs": [
        {
          "output_type": "stream",
          "text": [
            "{3.42: 500, 5.342: 700}\n",
            "500\n"
          ],
          "name": "stdout"
        }
      ]
    },
    {
      "cell_type": "code",
      "metadata": {
        "colab": {
          "base_uri": "https://localhost:8080/"
        },
        "id": "0CjwY-rIXUsM",
        "outputId": "828c4554-e3dd-46e2-8066-6515cfc94d72"
      },
      "source": [
        "name = \"rahim\"\r\n",
        "amount= 2000\r\n",
        "\r\n",
        "print(\"My name is %s and I have %s tk.\" %(name, amount))\r\n",
        "print(\"My name is\", name, \"I have\", amount)\r\n"
      ],
      "execution_count": 19,
      "outputs": [
        {
          "output_type": "stream",
          "text": [
            "My name is rahim and I have 2000 tk.\n",
            "My name is rahim I have 2000\n"
          ],
          "name": "stdout"
        }
      ]
    },
    {
      "cell_type": "markdown",
      "metadata": {
        "id": "dOiCXWHQYZqE"
      },
      "source": [
        "#**Conditional statements**"
      ]
    },
    {
      "cell_type": "code",
      "metadata": {
        "colab": {
          "base_uri": "https://localhost:8080/"
        },
        "id": "FBRoLaktYZO9",
        "outputId": "7b0ce7fa-a620-4496-b65a-9e3e9ece1ba8"
      },
      "source": [
        "n=15\r\n",
        "\r\n",
        "if n==10:\r\n",
        "  print(\"I have got 10\")\r\n",
        "elif n>10 and n<100:\r\n",
        "  print(\"I have got more than 10 but less than 100\")\r\n",
        "else:\r\n",
        "  print(\"I have got less than 10\")\r\n",
        "  \r\n"
      ],
      "execution_count": 23,
      "outputs": [
        {
          "output_type": "stream",
          "text": [
            "I have got more than 10 but less than 100\n"
          ],
          "name": "stdout"
        }
      ]
    },
    {
      "cell_type": "markdown",
      "metadata": {
        "id": "XVPn5AFnZ01G"
      },
      "source": [
        "#**Loops**"
      ]
    },
    {
      "cell_type": "code",
      "metadata": {
        "colab": {
          "base_uri": "https://localhost:8080/"
        },
        "id": "jn2Eqr8fZpjn",
        "outputId": "5340c0af-a610-4c30-c9bf-18ef44029f2b"
      },
      "source": [
        "for i in myList:\r\n",
        "  print(i)"
      ],
      "execution_count": 26,
      "outputs": [
        {
          "output_type": "stream",
          "text": [
            "2\n",
            "4\n",
            "10\n",
            "15\n",
            "20\n"
          ],
          "name": "stdout"
        }
      ]
    },
    {
      "cell_type": "code",
      "metadata": {
        "colab": {
          "base_uri": "https://localhost:8080/"
        },
        "id": "18ECO_kkaaCd",
        "outputId": "7736da8d-e341-42d5-ed29-1adbcfd7652a"
      },
      "source": [
        "i=1\r\n",
        "while i<=10:\r\n",
        "  if i%2==0:\r\n",
        "    print(i)\r\n",
        "  i+=1"
      ],
      "execution_count": 29,
      "outputs": [
        {
          "output_type": "stream",
          "text": [
            "2\n",
            "4\n",
            "6\n",
            "8\n",
            "10\n"
          ],
          "name": "stdout"
        }
      ]
    },
    {
      "cell_type": "markdown",
      "metadata": {
        "id": "l4QUWrFcbGlE"
      },
      "source": [
        "#**Functions**"
      ]
    },
    {
      "cell_type": "code",
      "metadata": {
        "colab": {
          "base_uri": "https://localhost:8080/"
        },
        "id": "31-55-3XbKC4",
        "outputId": "148d4921-8e72-4990-bfc3-ae9c7193bb3b"
      },
      "source": [
        "def method1():\r\n",
        "  print(\"This line is inside a function\")\r\n",
        "\r\n",
        "method1()\r\n"
      ],
      "execution_count": 33,
      "outputs": [
        {
          "output_type": "stream",
          "text": [
            "This line is inside a function\n"
          ],
          "name": "stdout"
        }
      ]
    },
    {
      "cell_type": "code",
      "metadata": {
        "colab": {
          "base_uri": "https://localhost:8080/"
        },
        "id": "FlrQvyxPbeuP",
        "outputId": "a64212c9-f4fb-4509-e74c-80da3cfe2be2"
      },
      "source": [
        "def sum(x, y):\r\n",
        "  z=x+y\r\n",
        "  return z\r\n",
        "\r\n",
        "x = int(input(\"Enter a value:\"))\r\n",
        "y = int(input(\"Enter another value:\"))\r\n",
        "\r\n",
        "sum(x, y)"
      ],
      "execution_count": 37,
      "outputs": [
        {
          "output_type": "stream",
          "text": [
            "Enter a value:10\n",
            "Enter another value:15\n"
          ],
          "name": "stdout"
        },
        {
          "output_type": "execute_result",
          "data": {
            "text/plain": [
              "25"
            ]
          },
          "metadata": {
            "tags": []
          },
          "execution_count": 37
        }
      ]
    },
    {
      "cell_type": "markdown",
      "metadata": {
        "id": "rZnKJn_idKaw"
      },
      "source": [
        "#**Built in methods in python**"
      ]
    },
    {
      "cell_type": "code",
      "metadata": {
        "colab": {
          "base_uri": "https://localhost:8080/"
        },
        "id": "RDEPkmbadJ0F",
        "outputId": "ce647ce3-7656-4f06-d501-f8888ed6de87"
      },
      "source": [
        "myList = [2, 4, 6, 8, 15]\r\n",
        "\r\n",
        "print(myList[3])"
      ],
      "execution_count": 41,
      "outputs": [
        {
          "output_type": "stream",
          "text": [
            "8\n"
          ],
          "name": "stdout"
        }
      ]
    },
    {
      "cell_type": "markdown",
      "metadata": {
        "id": "AXMqeSgRecY8"
      },
      "source": [
        "#**A complex statement**"
      ]
    },
    {
      "cell_type": "code",
      "metadata": {
        "colab": {
          "base_uri": "https://localhost:8080/"
        },
        "id": "wMWqY_FhegVo",
        "outputId": "a280052b-1320-4e75-cb76-4c3ab1dd7540"
      },
      "source": [
        "def print_square_value(numbers):\r\n",
        "  for number in numbers:\r\n",
        "    if number%2==1:\r\n",
        "      squared = number*number\r\n",
        "      print(squared)\r\n",
        "\r\n",
        "values = [1, 2, 3, 4, 5, 6]\r\n",
        "print_square_value(values)"
      ],
      "execution_count": 43,
      "outputs": [
        {
          "output_type": "stream",
          "text": [
            "1\n",
            "9\n",
            "25\n"
          ],
          "name": "stdout"
        }
      ]
    }
  ]
}