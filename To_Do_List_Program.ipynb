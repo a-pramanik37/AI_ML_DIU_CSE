{
  "nbformat": 4,
  "nbformat_minor": 0,
  "metadata": {
    "colab": {
      "name": "To_Do_List_Program.ipynb",
      "provenance": [],
      "authorship_tag": "ABX9TyNztRFyhwCoBgE69d6K/pbd",
      "include_colab_link": true
    },
    "kernelspec": {
      "name": "python3",
      "display_name": "Python 3"
    }
  },
  "cells": [
    {
      "cell_type": "markdown",
      "metadata": {
        "id": "view-in-github",
        "colab_type": "text"
      },
      "source": [
        "<a href=\"https://colab.research.google.com/github/a-pramanik37/AI_ML_DIU_CSE_Spring2021/blob/main/To_Do_List_Program.ipynb\" target=\"_parent\"><img src=\"https://colab.research.google.com/assets/colab-badge.svg\" alt=\"Open In Colab\"/></a>"
      ]
    },
    {
      "cell_type": "code",
      "metadata": {
        "colab": {
          "base_uri": "https://localhost:8080/"
        },
        "id": "haIIKQVtenOK",
        "outputId": "e3f8f4b5-0b19-41b7-cf3e-c3f98f3bb138"
      },
      "source": [
        "data = []\r\n",
        "choice = 'random'\r\n",
        "\r\n",
        "def line():\r\n",
        "    print('---------------------------')\r\n",
        "\r\n",
        "def show_menu():\r\n",
        "    line()\r\n",
        "    print('MENU')\r\n",
        "    line()\r\n",
        "    print('1. Add item')\r\n",
        "    print('2. Mark as done')\r\n",
        "    print('3. View list')\r\n",
        "    print('4. Exit')\r\n",
        "    line()\r\n",
        "    choice = input('Enter your choice: ')\r\n",
        "    return choice\r\n",
        "\r\n",
        "while choice != '4':\r\n",
        "    choice = show_menu()\r\n",
        "    if choice == '1':\r\n",
        "        item = input('What is to be done? ')\r\n",
        "        data.append(item)\r\n",
        "        print('Item', item, 'added')\r\n",
        "    elif choice == '2':\r\n",
        "        item = input('What is to be marked as done? ')\r\n",
        "        if item in data:\r\n",
        "            data.remove(item)\r\n",
        "            print('Removed item', item)\r\n",
        "        else:\r\n",
        "            print('Could not find item', item)\r\n",
        "    elif choice == '3':\r\n",
        "        print('List of to-do items:')\r\n",
        "        for item in data:\r\n",
        "            print(item)\r\n",
        "    elif choice == '4':\r\n",
        "        print('Goodbye!')\r\n",
        "    else:\r\n",
        "        print('Please enter one of 1, 2, 3 or 4')"
      ],
      "execution_count": 1,
      "outputs": [
        {
          "output_type": "stream",
          "text": [
            "---------------------------\n",
            "MENU\n",
            "---------------------------\n",
            "1. Add item\n",
            "2. Mark as done\n",
            "3. View list\n",
            "4. Exit\n",
            "---------------------------\n",
            "Enter your choice: 1\n",
            "What is to be done? eating\n",
            "Item eating added\n",
            "---------------------------\n",
            "MENU\n",
            "---------------------------\n",
            "1. Add item\n",
            "2. Mark as done\n",
            "3. View list\n",
            "4. Exit\n",
            "---------------------------\n",
            "Enter your choice: 2\n",
            "What is to be marked as done? eating\n",
            "Removed item eating\n",
            "---------------------------\n",
            "MENU\n",
            "---------------------------\n",
            "1. Add item\n",
            "2. Mark as done\n",
            "3. View list\n",
            "4. Exit\n",
            "---------------------------\n",
            "Enter your choice: walking\n",
            "Please enter one of 1, 2, 3 or 4\n",
            "---------------------------\n",
            "MENU\n",
            "---------------------------\n",
            "1. Add item\n",
            "2. Mark as done\n",
            "3. View list\n",
            "4. Exit\n",
            "---------------------------\n",
            "Enter your choice: 4\n",
            "Goodbye!\n"
          ],
          "name": "stdout"
        }
      ]
    }
  ]
}