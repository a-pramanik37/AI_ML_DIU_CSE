{
  "nbformat": 4,
  "nbformat_minor": 0,
  "metadata": {
    "colab": {
      "name": "use_of_built_in_function.ipynb",
      "provenance": [],
      "authorship_tag": "ABX9TyN0AfzhPGtIT3SuJOnPhtxp",
      "include_colab_link": true
    },
    "kernelspec": {
      "name": "python3",
      "display_name": "Python 3"
    }
  },
  "cells": [
    {
      "cell_type": "markdown",
      "metadata": {
        "id": "view-in-github",
        "colab_type": "text"
      },
      "source": [
        "<a href=\"https://colab.research.google.com/github/a-pramanik37/AI_ML_DIU_CSE_Spring2021/blob/main/use_of_built_in_function.ipynb\" target=\"_parent\"><img src=\"https://colab.research.google.com/assets/colab-badge.svg\" alt=\"Open In Colab\"/></a>"
      ]
    },
    {
      "cell_type": "code",
      "metadata": {
        "colab": {
          "base_uri": "https://localhost:8080/"
        },
        "id": "IMRYO4qig-Dn",
        "outputId": "61ad0b97-896c-4b2a-864d-f1fdbaee9971"
      },
      "source": [
        "name = \"Rahim\"\r\n",
        "age = 50\r\n",
        "print(\"My name is\", name, \"and my age is\", age)"
      ],
      "execution_count": 2,
      "outputs": [
        {
          "output_type": "stream",
          "text": [
            "My name is Rahim and my age is 50\n"
          ],
          "name": "stdout"
        }
      ]
    },
    {
      "cell_type": "code",
      "metadata": {
        "colab": {
          "base_uri": "https://localhost:8080/"
        },
        "id": "DqEEPtaMjEk7",
        "outputId": "43c55690-2e95-4aeb-a470-c0c431a7a93d"
      },
      "source": [
        "numbers = [3, 6, 8, 10, 15]\r\n",
        "numbers.pop()\r\n",
        "numbers.remove(8)\r\n",
        "print(numbers)"
      ],
      "execution_count": 8,
      "outputs": [
        {
          "output_type": "stream",
          "text": [
            "[3, 6, 10]\n"
          ],
          "name": "stdout"
        }
      ]
    },
    {
      "cell_type": "code",
      "metadata": {
        "colab": {
          "base_uri": "https://localhost:8080/"
        },
        "id": "5kzfnV92mUhc",
        "outputId": "1bd09614-58e0-417e-fae7-a8f3e225046e"
      },
      "source": [
        "def print_square_value(numbers):\r\n",
        "  for number in numbers:\r\n",
        "    if number!=2:\r\n",
        "      squared = number*number\r\n",
        "      print(squared)\r\n",
        "\r\n",
        "numbers = [1, 2, 3, 4]\r\n",
        "print_square_value(numbers)"
      ],
      "execution_count": 14,
      "outputs": [
        {
          "output_type": "stream",
          "text": [
            "1\n",
            "9\n",
            "16\n"
          ],
          "name": "stdout"
        }
      ]
    }
  ]
}