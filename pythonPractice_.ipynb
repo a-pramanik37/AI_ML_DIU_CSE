{
  "nbformat": 4,
  "nbformat_minor": 0,
  "metadata": {
    "colab": {
      "name": "pythonPractice_.ipynb",
      "provenance": [],
      "authorship_tag": "ABX9TyMaV7NauoBxVtzo7dfsImp3",
      "include_colab_link": true
    },
    "kernelspec": {
      "name": "python3",
      "display_name": "Python 3"
    }
  },
  "cells": [
    {
      "cell_type": "markdown",
      "metadata": {
        "id": "view-in-github",
        "colab_type": "text"
      },
      "source": [
        "<a href=\"https://colab.research.google.com/github/a-pramanik37/AI_ML_DIU_CSE_Spring2021/blob/main/pythonPractice_.ipynb\" target=\"_parent\"><img src=\"https://colab.research.google.com/assets/colab-badge.svg\" alt=\"Open In Colab\"/></a>"
      ]
    },
    {
      "cell_type": "markdown",
      "metadata": {
        "id": "FXWjuQgjiWke"
      },
      "source": [
        "#**Variables in python**"
      ]
    },
    {
      "cell_type": "code",
      "metadata": {
        "id": "iMDIp67UkQh4"
      },
      "source": [
        "n=543\r\n"
      ],
      "execution_count": 8,
      "outputs": []
    },
    {
      "cell_type": "code",
      "metadata": {
        "colab": {
          "base_uri": "https://localhost:8080/"
        },
        "id": "oxd0wZISmx0F",
        "outputId": "4d7495dc-dd1f-46a8-cb4c-f2128be08fe0"
      },
      "source": [
        "type(n)"
      ],
      "execution_count": 9,
      "outputs": [
        {
          "output_type": "execute_result",
          "data": {
            "text/plain": [
              "int"
            ]
          },
          "metadata": {
            "tags": []
          },
          "execution_count": 9
        }
      ]
    },
    {
      "cell_type": "code",
      "metadata": {
        "colab": {
          "base_uri": "https://localhost:8080/"
        },
        "id": "36qCeHWXnQBa",
        "outputId": "e7ae214b-3f6d-414b-d5f9-0288fde89315"
      },
      "source": [
        "#list\r\n",
        "listPython = [4, 5, 6, 8, 10, \"rahim\"]\r\n",
        "print(listPython)"
      ],
      "execution_count": 24,
      "outputs": [
        {
          "output_type": "stream",
          "text": [
            "[4, 5, 6, 8, 10, 'rahim']\n"
          ],
          "name": "stdout"
        }
      ]
    },
    {
      "cell_type": "code",
      "metadata": {
        "colab": {
          "base_uri": "https://localhost:8080/"
        },
        "id": "Z_h9hPnfn2CZ",
        "outputId": "e14f1efd-3085-4e9b-f826-be0c5ed1a671"
      },
      "source": [
        "#dictionary\r\n",
        "d = {\"rahim\" : 500, \"karim\":200}\r\n",
        "print(d)"
      ],
      "execution_count": 14,
      "outputs": [
        {
          "output_type": "stream",
          "text": [
            "{'rahim': 500, 'karim': 200}\n"
          ],
          "name": "stdout"
        }
      ]
    },
    {
      "cell_type": "code",
      "metadata": {
        "colab": {
          "base_uri": "https://localhost:8080/"
        },
        "id": "KfW2pD5holmU",
        "outputId": "ebe47549-d785-4f40-b926-1510ee5829fc"
      },
      "source": [
        "name=\"rahim\"\r\n",
        "tk=1000\r\n",
        "print(\"%s has %s tk with him/her.\" %(name, tk))"
      ],
      "execution_count": 15,
      "outputs": [
        {
          "output_type": "stream",
          "text": [
            "rahim has 1000 tk with him/her.\n"
          ],
          "name": "stdout"
        }
      ]
    },
    {
      "cell_type": "code",
      "metadata": {
        "colab": {
          "base_uri": "https://localhost:8080/"
        },
        "id": "qNfCTqikpMYF",
        "outputId": "f13ab5e9-46c8-4ac0-bed1-9b6f7d0561d1"
      },
      "source": [
        "n=40;\r\n",
        "\r\n",
        "if n==10:\r\n",
        "  print(\"We got 10\")\r\n",
        "elif n>10 and n<50:\r\n",
        "  print(\"We got more than 10\")\r\n",
        "else:\r\n",
        "  print(\"We have less than 10\")"
      ],
      "execution_count": 22,
      "outputs": [
        {
          "output_type": "stream",
          "text": [
            "We got more than 10\n"
          ],
          "name": "stdout"
        }
      ]
    },
    {
      "cell_type": "code",
      "metadata": {
        "colab": {
          "base_uri": "https://localhost:8080/"
        },
        "id": "_Uo0c87pq6sF",
        "outputId": "bb85ebc9-6fe2-4a29-f160-f62a680cce60"
      },
      "source": [
        "for ele in listPython:\r\n",
        "  print(ele)"
      ],
      "execution_count": 25,
      "outputs": [
        {
          "output_type": "stream",
          "text": [
            "4\n",
            "5\n",
            "6\n",
            "8\n",
            "10\n",
            "rahim\n"
          ],
          "name": "stdout"
        }
      ]
    },
    {
      "cell_type": "code",
      "metadata": {
        "colab": {
          "base_uri": "https://localhost:8080/"
        },
        "id": "pHgVhKDPrY-4",
        "outputId": "fb88b521-b261-4a19-e397-a903be7600bc"
      },
      "source": [
        "#printing a sequence of variables\r\n",
        "counter=0\r\n",
        "while counter<=10:\r\n",
        "  print(counter)\r\n",
        "  counter+=1"
      ],
      "execution_count": 27,
      "outputs": [
        {
          "output_type": "stream",
          "text": [
            "0\n",
            "1\n",
            "2\n",
            "3\n",
            "4\n",
            "5\n",
            "6\n",
            "7\n",
            "8\n",
            "9\n",
            "10\n"
          ],
          "name": "stdout"
        }
      ]
    },
    {
      "cell_type": "code",
      "metadata": {
        "colab": {
          "base_uri": "https://localhost:8080/"
        },
        "id": "PiRb1WF6r6h4",
        "outputId": "964a2bf1-7a27-4658-9a98-52ea91fcc29d"
      },
      "source": [
        "def myMethod():\r\n",
        "  print(\"this is done inside a function\")\r\n",
        "  print(\"hello bangladesh\")\r\n",
        "\r\n"
      ],
      "execution_count": 29,
      "outputs": [
        {
          "output_type": "stream",
          "text": [
            "this is done inside a function\n",
            "hello bangladesh\n"
          ],
          "name": "stdout"
        }
      ]
    },
    {
      "cell_type": "code",
      "metadata": {
        "colab": {
          "base_uri": "https://localhost:8080/"
        },
        "id": "GD1Lkg5hsR3i",
        "outputId": "aac010c3-0be9-4930-d2dc-5765385e97a7"
      },
      "source": [
        "myMethod()"
      ],
      "execution_count": 30,
      "outputs": [
        {
          "output_type": "stream",
          "text": [
            "this is done inside a function\n",
            "hello bangladesh\n"
          ],
          "name": "stdout"
        }
      ]
    },
    {
      "cell_type": "code",
      "metadata": {
        "id": "oTzL8jSVskkA"
      },
      "source": [
        "def sum(x, y):\r\n",
        "  z=x+y\r\n",
        "  return z\r\n",
        "\r\n"
      ],
      "execution_count": 31,
      "outputs": []
    },
    {
      "cell_type": "code",
      "metadata": {
        "colab": {
          "base_uri": "https://localhost:8080/"
        },
        "id": "hRmS_AVusviw",
        "outputId": "b9bf17e7-08f1-4d61-b738-3587095434b3"
      },
      "source": [
        "x=10\r\n",
        "y=17\r\n",
        "sum(x, y)"
      ],
      "execution_count": 33,
      "outputs": [
        {
          "output_type": "execute_result",
          "data": {
            "text/plain": [
              "27"
            ]
          },
          "metadata": {
            "tags": []
          },
          "execution_count": 33
        }
      ]
    },
    {
      "cell_type": "code",
      "metadata": {
        "colab": {
          "base_uri": "https://localhost:8080/"
        },
        "id": "0LqbYhBruAyz",
        "outputId": "f88afe38-979d-44d3-e311-b7a5c217e602"
      },
      "source": [
        "numbers = [3, 6, 8, 10, 15]\r\n",
        "numbers.remove(6)\r\n",
        "\r\n",
        "for value in numbers:\r\n",
        "  print(value)\r\n"
      ],
      "execution_count": 36,
      "outputs": [
        {
          "output_type": "stream",
          "text": [
            "3\n",
            "8\n",
            "10\n",
            "15\n"
          ],
          "name": "stdout"
        }
      ]
    },
    {
      "cell_type": "code",
      "metadata": {
        "colab": {
          "base_uri": "https://localhost:8080/"
        },
        "id": "HtSCXoszutDy",
        "outputId": "c7ddf005-c0b1-46bf-9311-1397630089f6"
      },
      "source": [
        "def print_square_value(numbers):\r\n",
        "  for number in numbers:\r\n",
        "    if number!=3:\r\n",
        "      squared = number*number\r\n",
        "      print(squared)\r\n",
        "\r\n",
        "values = [1, 2, 3, 4, 5, 6]\r\n",
        "\r\n",
        "print_square_value(values)"
      ],
      "execution_count": 40,
      "outputs": [
        {
          "output_type": "stream",
          "text": [
            "1\n",
            "4\n",
            "16\n",
            "25\n",
            "36\n"
          ],
          "name": "stdout"
        }
      ]
    }
  ]
}