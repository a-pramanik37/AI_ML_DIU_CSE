{
  "nbformat": 4,
  "nbformat_minor": 0,
  "metadata": {
    "colab": {
      "name": "pythonPractice.ipynb",
      "provenance": [],
      "authorship_tag": "ABX9TyO8JKSv7PF8q5iN1QZYwL8i",
      "include_colab_link": true
    },
    "kernelspec": {
      "name": "python3",
      "display_name": "Python 3"
    }
  },
  "cells": [
    {
      "cell_type": "markdown",
      "metadata": {
        "id": "view-in-github",
        "colab_type": "text"
      },
      "source": [
        "<a href=\"https://colab.research.google.com/github/a-pramanik37/AI_ML_DIU_CSE_Spring2021/blob/main/pythonPractice.ipynb\" target=\"_parent\"><img src=\"https://colab.research.google.com/assets/colab-badge.svg\" alt=\"Open In Colab\"/></a>"
      ]
    },
    {
      "cell_type": "markdown",
      "metadata": {
        "id": "mGkoc6oEm2iq"
      },
      "source": [
        "#**Python Variables**"
      ]
    },
    {
      "cell_type": "code",
      "metadata": {
        "id": "23HmtyABm_2O"
      },
      "source": [
        "n=50\r\n",
        "f=41.43\r\n"
      ],
      "execution_count": 6,
      "outputs": []
    },
    {
      "cell_type": "code",
      "metadata": {
        "id": "tD3QpTRMoL17"
      },
      "source": [
        "str=\"hello\""
      ],
      "execution_count": 7,
      "outputs": []
    },
    {
      "cell_type": "code",
      "metadata": {
        "colab": {
          "base_uri": "https://localhost:8080/"
        },
        "id": "4Qn1O797oRw_",
        "outputId": "f9537f74-e890-4347-a1c0-244e53ee52b7"
      },
      "source": [
        "type(n)"
      ],
      "execution_count": 10,
      "outputs": [
        {
          "output_type": "execute_result",
          "data": {
            "text/plain": [
              "int"
            ]
          },
          "metadata": {
            "tags": []
          },
          "execution_count": 10
        }
      ]
    },
    {
      "cell_type": "markdown",
      "metadata": {
        "id": "PscUJpUHo19C"
      },
      "source": [
        "#**Python collection types**"
      ]
    },
    {
      "cell_type": "code",
      "metadata": {
        "colab": {
          "base_uri": "https://localhost:8080/"
        },
        "id": "wUT94HgVo9r0",
        "outputId": "4e5b7fb4-bc46-44a7-ac3a-0bd9db1c8457"
      },
      "source": [
        "#list\r\n",
        "myList = [2, 4, 10, 50]\r\n",
        "print(myList)"
      ],
      "execution_count": 13,
      "outputs": [
        {
          "output_type": "stream",
          "text": [
            "[2, 4, 10, 50]\n"
          ],
          "name": "stdout"
        }
      ]
    },
    {
      "cell_type": "code",
      "metadata": {
        "colab": {
          "base_uri": "https://localhost:8080/"
        },
        "id": "9ErpMUh_pdEJ",
        "outputId": "9f9c75da-9698-4281-de9e-565466cbbe2f"
      },
      "source": [
        "#dictionary\r\n",
        "myDictinary = {\"Rahim\" : 200, \"hasan\" : 500}\r\n",
        "print(myDictinary[\"hasan\"])"
      ],
      "execution_count": 18,
      "outputs": [
        {
          "output_type": "stream",
          "text": [
            "500\n"
          ],
          "name": "stdout"
        }
      ]
    },
    {
      "cell_type": "code",
      "metadata": {
        "colab": {
          "base_uri": "https://localhost:8080/"
        },
        "id": "jaqFLw-6qWNb",
        "outputId": "6a489df4-2df2-49d4-86b9-4f0a90222c56"
      },
      "source": [
        "name = \"hasan\"\r\n",
        "tk = 1000\r\n",
        "print(\"My name is %s and I have %s tk\" %(name, tk))"
      ],
      "execution_count": 19,
      "outputs": [
        {
          "output_type": "stream",
          "text": [
            "My name is hasan and I have 1000 tk\n"
          ],
          "name": "stdout"
        }
      ]
    },
    {
      "cell_type": "markdown",
      "metadata": {
        "id": "7_RnT1txrsk9"
      },
      "source": [
        "#**Conditional Statement**"
      ]
    },
    {
      "cell_type": "code",
      "metadata": {
        "colab": {
          "base_uri": "https://localhost:8080/"
        },
        "id": "l4VaATMgq1uA",
        "outputId": "d2a699d6-2ad8-481d-8d6c-e7e6244a18cd"
      },
      "source": [
        "x = 20\r\n",
        "if x==10:\r\n",
        "  print(\"We got 10\")\r\n",
        "elif x>10 and x<50:\r\n",
        "  print(\"We got more than 10 but less than 50\")\r\n",
        "else:\r\n",
        "  print(\"We got less than 10\")"
      ],
      "execution_count": 22,
      "outputs": [
        {
          "output_type": "stream",
          "text": [
            "We got more than 10 but less than 50\n"
          ],
          "name": "stdout"
        }
      ]
    },
    {
      "cell_type": "markdown",
      "metadata": {
        "id": "YTG8it-UsqwU"
      },
      "source": [
        "#**Loops**"
      ]
    },
    {
      "cell_type": "code",
      "metadata": {
        "colab": {
          "base_uri": "https://localhost:8080/"
        },
        "id": "JxAoSEDXr4Ub",
        "outputId": "d0913e1b-b895-42ca-f80e-2919a9e6eb31"
      },
      "source": [
        "for i in myList:\r\n",
        "  print(i)\r\n",
        "\r\n"
      ],
      "execution_count": 23,
      "outputs": [
        {
          "output_type": "stream",
          "text": [
            "2\n",
            "4\n",
            "10\n",
            "50\n"
          ],
          "name": "stdout"
        }
      ]
    },
    {
      "cell_type": "code",
      "metadata": {
        "colab": {
          "base_uri": "https://localhost:8080/"
        },
        "id": "GNuffvqlsK6p",
        "outputId": "cddfd581-373e-4dbc-9af6-a79c5913f3c6"
      },
      "source": [
        "i=1\r\n",
        "while i<=10:\r\n",
        "  print(i)\r\n",
        "  i+=1"
      ],
      "execution_count": 25,
      "outputs": [
        {
          "output_type": "stream",
          "text": [
            "1\n",
            "2\n",
            "3\n",
            "4\n",
            "5\n",
            "6\n",
            "7\n",
            "8\n",
            "9\n",
            "10\n"
          ],
          "name": "stdout"
        }
      ]
    },
    {
      "cell_type": "code",
      "metadata": {
        "colab": {
          "base_uri": "https://localhost:8080/"
        },
        "id": "dnONTCEisyt2",
        "outputId": "b7769d6e-effd-44fd-92dd-f9724de2044b"
      },
      "source": [
        "def method():\r\n",
        "  print(\"this is a function\")\r\n",
        "\r\n",
        "\r\n",
        "method()\r\n",
        "  "
      ],
      "execution_count": 29,
      "outputs": [
        {
          "output_type": "stream",
          "text": [
            "this is a function\n"
          ],
          "name": "stdout"
        }
      ]
    },
    {
      "cell_type": "code",
      "metadata": {
        "colab": {
          "base_uri": "https://localhost:8080/"
        },
        "id": "212cKg97tj6K",
        "outputId": "f079400f-236b-44b7-fe4b-85ac86e32176"
      },
      "source": [
        "#printing in another format\r\n",
        "\r\n",
        "country = \"bangladesh\"\r\n",
        "area = 147570\r\n",
        "print(\"I live in\", country, \"its area is\", area)"
      ],
      "execution_count": 30,
      "outputs": [
        {
          "output_type": "stream",
          "text": [
            "I live in bangladesh its area is 147570\n"
          ],
          "name": "stdout"
        }
      ]
    },
    {
      "cell_type": "code",
      "metadata": {
        "colab": {
          "base_uri": "https://localhost:8080/"
        },
        "id": "uYgHkplCuXYV",
        "outputId": "34c8cf82-be56-4da1-d56e-314ebe603d81"
      },
      "source": [
        "myList = [2, 4, 10, 15, 20]\r\n",
        "myList.remove(10)\r\n",
        "print(myList)"
      ],
      "execution_count": 33,
      "outputs": [
        {
          "output_type": "stream",
          "text": [
            "[2, 4, 15, 20]\n"
          ],
          "name": "stdout"
        }
      ]
    },
    {
      "cell_type": "code",
      "metadata": {
        "colab": {
          "base_uri": "https://localhost:8080/"
        },
        "id": "5o8yWtRcuvdf",
        "outputId": "ddcea479-7b14-4452-ebe7-54fc3a182cdd"
      },
      "source": [
        "def print_square_value(numbers):\r\n",
        "  for number in numbers:\r\n",
        "    if number%2==0:\r\n",
        "      squared = number*number\r\n",
        "      print(squared)\r\n",
        "\r\n",
        "myNumbers = [1, 2, 3, 4]\r\n",
        "print_square_value(myNumbers)"
      ],
      "execution_count": 35,
      "outputs": [
        {
          "output_type": "stream",
          "text": [
            "4\n",
            "16\n"
          ],
          "name": "stdout"
        }
      ]
    }
  ]
}