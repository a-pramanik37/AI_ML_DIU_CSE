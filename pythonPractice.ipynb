{
  "nbformat": 4,
  "nbformat_minor": 0,
  "metadata": {
    "colab": {
      "name": "pythonPractice.ipynb",
      "provenance": [],
      "authorship_tag": "ABX9TyNROklU8THaF2YpvNVgt8Qw",
      "include_colab_link": true
    },
    "kernelspec": {
      "name": "python3",
      "display_name": "Python 3"
    }
  },
  "cells": [
    {
      "cell_type": "markdown",
      "metadata": {
        "id": "view-in-github",
        "colab_type": "text"
      },
      "source": [
        "<a href=\"https://colab.research.google.com/github/a-pramanik37/AI_ML_DIU_CSE_Spring2021/blob/main/pythonPractice.ipynb\" target=\"_parent\"><img src=\"https://colab.research.google.com/assets/colab-badge.svg\" alt=\"Open In Colab\"/></a>"
      ]
    },
    {
      "cell_type": "markdown",
      "metadata": {
        "id": "IGZkhZVlTTsL"
      },
      "source": [
        "#**Basic Python**\r\n",
        "\r\n"
      ]
    },
    {
      "cell_type": "code",
      "metadata": {
        "colab": {
          "base_uri": "https://localhost:8080/"
        },
        "id": "VCx22woOSO5p",
        "outputId": "53c9bed5-518f-45c1-ff5b-3a29ab089a5f"
      },
      "source": [
        "#printing a string\r\n",
        "print(\"hello bangladesh\")\r\n",
        "x=15"
      ],
      "execution_count": 13,
      "outputs": [
        {
          "output_type": "stream",
          "text": [
            "hello bangladesh\n"
          ],
          "name": "stdout"
        }
      ]
    },
    {
      "cell_type": "code",
      "metadata": {
        "colab": {
          "base_uri": "https://localhost:8080/"
        },
        "id": "ZN6P4JDASlX7",
        "outputId": "6b15622a-c17e-4ee6-a0d2-1270e2bfd75f"
      },
      "source": [
        "\r\n",
        "print(x)"
      ],
      "execution_count": 12,
      "outputs": [
        {
          "output_type": "stream",
          "text": [
            "15\n"
          ],
          "name": "stdout"
        }
      ]
    }
  ]
}